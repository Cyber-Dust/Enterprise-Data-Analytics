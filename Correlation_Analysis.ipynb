{
  "nbformat": 4,
  "nbformat_minor": 0,
  "metadata": {
    "colab": {
      "provenance": [],
      "authorship_tag": "ABX9TyPJJ8VyETIYz3eCRiSjpFOm",
      "include_colab_link": true
    },
    "kernelspec": {
      "name": "python3",
      "display_name": "Python 3"
    },
    "language_info": {
      "name": "python"
    }
  },
  "cells": [
    {
      "cell_type": "markdown",
      "metadata": {
        "id": "view-in-github",
        "colab_type": "text"
      },
      "source": [
        "<a href=\"https://colab.research.google.com/github/Cyber-Dust/Enterprise-Data-Analytics/blob/main/Correlation_Analysis.ipynb\" target=\"_parent\"><img src=\"https://colab.research.google.com/assets/colab-badge.svg\" alt=\"Open In Colab\"/></a>"
      ]
    },
    {
      "cell_type": "code",
      "execution_count": 1,
      "metadata": {
        "id": "9FxI9K2dYCNr"
      },
      "outputs": [],
      "source": [
        "# PYTHON MODULES\n",
        "# import user-installed modules\n",
        "import pandas as pd\n",
        "import numpy as np\n",
        "import matplotlib.pyplot as plt\n",
        "\n",
        "\n",
        "# pandas options\n",
        "pd.set_option('display.max_rows', 100)\n"
      ]
    },
    {
      "cell_type": "code",
      "source": [
        "!wget -nc \"https://github.com/Cyber-Dust/Enterprise-Data-Analytics/blob/main/happyscore_income.csv\"\n",
        "happiness_income_log = pd.read_csv('happyscore_income.csv')"
      ],
      "metadata": {
        "colab": {
          "base_uri": "https://localhost:8080/"
        },
        "id": "bVOYxDEVYKrb",
        "outputId": "71c83414-314a-4402-d336-593561e49bfd"
      },
      "execution_count": 2,
      "outputs": [
        {
          "output_type": "stream",
          "name": "stdout",
          "text": [
            "--2023-11-27 10:44:51--  https://github.com/Cyber-Dust/Enterprise-Data-Analytics/blob/main/happyscore_income.csv\n",
            "Resolving github.com (github.com)... 140.82.112.3\n",
            "Connecting to github.com (github.com)|140.82.112.3|:443... connected.\n",
            "HTTP request sent, awaiting response... 200 OK\n",
            "Length: 19916 (19K) [text/plain]\n",
            "Saving to: ‘happyscore_income.csv’\n",
            "\n",
            "happyscore_income.c 100%[===================>]  19.45K  --.-KB/s    in 0.06s   \n",
            "\n",
            "2023-11-27 10:44:52 (321 KB/s) - ‘happyscore_income.csv’ saved [19916/19916]\n",
            "\n"
          ]
        }
      ]
    },
    {
      "cell_type": "code",
      "source": [
        "# view columns and null counts for each column in the data frame\n",
        "print(happiness_income_log.columns)\n",
        "print(happiness_income_log.info())\n"
      ],
      "metadata": {
        "colab": {
          "base_uri": "https://localhost:8080/"
        },
        "id": "HBTvq6CvYkCy",
        "outputId": "00662630-75b3-4399-8e9b-e2cc3271e4cc"
      },
      "execution_count": 3,
      "outputs": [
        {
          "output_type": "stream",
          "name": "stdout",
          "text": [
            "Index(['{\"payload\":{\"allShortcutsEnabled\":false',\n",
            "       'fileTree:{\"\":{\"items\":[{\"name\":\"Dasean_Volk_hw10.ipynb\"',\n",
            "       'path:\"Dasean_Volk_hw10.ipynb\"', 'contentType:\"file\"}',\n",
            "       '{\"name\":\"Dasean_Volk_hw9.ipynb\"', 'path:\"Dasean_Volk_hw9.ipynb\"',\n",
            "       'contentType:\"file\"}.1', '{\"name\":\"LICENSE\"', 'path:\"LICENSE\"',\n",
            "       'contentType:\"file\"}.2',\n",
            "       ...\n",
            "       'viewable:true', 'workflowRedirectUrl:null',\n",
            "       'symbols:{\"timedOut\":false', 'notAnalyzed:true', 'symbols:[]}}',\n",
            "       'copilotInfo:null', 'copilotAccessAllowed:false',\n",
            "       'csrf_tokens:{\"/Cyber-Dust/Enterprise-Data-Analytics/branches\":{\"post\":\"SLaliHbbLnZk95QV9d8hiMn-vQ6FAW_xlAse40qUJJV7mlt8M4oxba0aEV_x3FlU_kdwL85ndVfnu3gcPJxXcA\"}',\n",
            "       '/repos/preferences:{\"post\":\"eTcUbf72ARrc0gR_n4goKAigBqwFqBZmhQlrYu9n27bOo6UQ_r8cyV4dqmwtrZ66KP-e-U8_Bw_DZygpULC0Ow\"}}}',\n",
            "       'title:\"Enterprise-Data-Analytics/happyscore_income.csv at main · Cyber-Dust/Enterprise-Data-Analytics\"}'],\n",
            "      dtype='object', length=1360)\n",
            "<class 'pandas.core.frame.DataFrame'>\n",
            "Index: 0 entries\n",
            "Columns: 1360 entries, {\"payload\":{\"allShortcutsEnabled\":false to title:\"Enterprise-Data-Analytics/happyscore_income.csv at main · Cyber-Dust/Enterprise-Data-Analytics\"}\n",
            "dtypes: object(1360)\n",
            "memory usage: 0.0+ bytes\n",
            "None\n"
          ]
        }
      ]
    },
    {
      "cell_type": "code",
      "source": [
        "# shape of the data frame\n",
        "# happiness income log:\n",
        "print(\"Happiness Income Log Shpae:\")\n",
        "print(happiness_income_log.shape)\n"
      ],
      "metadata": {
        "colab": {
          "base_uri": "https://localhost:8080/"
        },
        "id": "qcrtBg2aYmUW",
        "outputId": "371cc5e9-2d47-46ff-ebd7-7ca6a38adf23"
      },
      "execution_count": 4,
      "outputs": [
        {
          "output_type": "stream",
          "name": "stdout",
          "text": [
            "Happiness Income Log Shpae:\n",
            "(0, 1360)\n"
          ]
        }
      ]
    },
    {
      "cell_type": "code",
      "source": [
        "# show first five rows of the data frame\n",
        "happiness_income_log.head()\n"
      ],
      "metadata": {
        "colab": {
          "base_uri": "https://localhost:8080/",
          "height": 168
        },
        "id": "h8TAgx2mYuZM",
        "outputId": "a46e9156-2801-4653-8ab1-ecd63e4cd94e"
      },
      "execution_count": 5,
      "outputs": [
        {
          "output_type": "execute_result",
          "data": {
            "text/plain": [
              "Empty DataFrame\n",
              "Columns: [{\"payload\":{\"allShortcutsEnabled\":false, fileTree:{\"\":{\"items\":[{\"name\":\"Dasean_Volk_hw10.ipynb\", path:\"Dasean_Volk_hw10.ipynb\", contentType:\"file\"}, {\"name\":\"Dasean_Volk_hw9.ipynb\", path:\"Dasean_Volk_hw9.ipynb\", contentType:\"file\"}.1, {\"name\":\"LICENSE\", path:\"LICENSE\", contentType:\"file\"}.2, {\"name\":\"NBA_Stats_IC.ipynb\", path:\"NBA_Stats_IC.ipynb\", contentType:\"file\"}.3, {\"name\":\"README.md\", path:\"README.md\", contentType:\"file\"}.4, {\"name\":\"happyscore_income.csv\", path:\"happyscore_income.csv\", contentType:\"file\"}.5, {\"name\":\"nba_game_log_2021_22.csv\", path:\"nba_game_log_2021_22.csv\", contentType:\"file\"}.6, {\"name\":\"nba_salary_2021_22.csv\", path:\"nba_salary_2021_22.csv\", contentType:\"file\"}], totalCount:8}}, fileTreeProcessingTime:2.391324, foldersToFetch:[], reducedMotionEnabled:null, repo:{\"id\":718303396, defaultBranch:\"main\", name:\"Enterprise-Data-Analytics\", ownerLogin:\"Cyber-Dust\", currentUserCanPush:false, isFork:false, isEmpty:false, createdAt:\"2023-11-13T20:04:39.000Z\", ownerAvatar:\"https://avatars.githubusercontent.com/u/80739088?v=4\", public:true, private:false, isOrgOwned:false}, symbolsExpanded:false, treeExpanded:true, refInfo:{\"name\":\"main\", listCacheKey:\"v0:1701081696.0\", canEdit:false, refType:\"branch\", currentOid:\"a25bb935522e1bec68cb8a3f05ad722d08d41d30\"}, path:\"happyscore_income.csv\".1, currentUser:null, blob:{\"rawLines\":null, stylingDirectives:null, csv:[[\"country\", adjusted_satisfaction, avg_satisfaction, std_satisfaction, avg_income, median_income, income_inequality, region, happyScore, GDP, country], [\"Armenia\", 37.0, 4.9, 2.42, 2096.7599999999998, 1731.5066666666667, 31.445555555555554, 'Central and Eastern Europe', 4.35, 0.7682100000000001, Armenia], [\"Angola\", 26.0, 4.3, 3.19, 1448.88, 1044.24, 42.72, 'Sub-Saharan Africa', 4.033, 0.75778, Angola], [\"Argentina\", 60.0, 7.1, 1.91, 7101.12, 5109.4, 45.475555555555566, 'Latin America and Caribbean', 6.574, 1.05351, Argentina], [\"Austria\", 59.0, 7.2, 2.11, ...]\n",
              "Index: []\n",
              "\n",
              "[0 rows x 1360 columns]"
            ],
            "text/html": [
              "\n",
              "  <div id=\"df-d1695f31-2f65-440e-92d9-bbefdb094f1a\" class=\"colab-df-container\">\n",
              "    <div>\n",
              "<style scoped>\n",
              "    .dataframe tbody tr th:only-of-type {\n",
              "        vertical-align: middle;\n",
              "    }\n",
              "\n",
              "    .dataframe tbody tr th {\n",
              "        vertical-align: top;\n",
              "    }\n",
              "\n",
              "    .dataframe thead th {\n",
              "        text-align: right;\n",
              "    }\n",
              "</style>\n",
              "<table border=\"1\" class=\"dataframe\">\n",
              "  <thead>\n",
              "    <tr style=\"text-align: right;\">\n",
              "      <th></th>\n",
              "      <th>{\"payload\":{\"allShortcutsEnabled\":false</th>\n",
              "      <th>fileTree:{\"\":{\"items\":[{\"name\":\"Dasean_Volk_hw10.ipynb\"</th>\n",
              "      <th>path:\"Dasean_Volk_hw10.ipynb\"</th>\n",
              "      <th>contentType:\"file\"}</th>\n",
              "      <th>{\"name\":\"Dasean_Volk_hw9.ipynb\"</th>\n",
              "      <th>path:\"Dasean_Volk_hw9.ipynb\"</th>\n",
              "      <th>contentType:\"file\"}.1</th>\n",
              "      <th>{\"name\":\"LICENSE\"</th>\n",
              "      <th>path:\"LICENSE\"</th>\n",
              "      <th>contentType:\"file\"}.2</th>\n",
              "      <th>...</th>\n",
              "      <th>viewable:true</th>\n",
              "      <th>workflowRedirectUrl:null</th>\n",
              "      <th>symbols:{\"timedOut\":false</th>\n",
              "      <th>notAnalyzed:true</th>\n",
              "      <th>symbols:[]}}</th>\n",
              "      <th>copilotInfo:null</th>\n",
              "      <th>copilotAccessAllowed:false</th>\n",
              "      <th>csrf_tokens:{\"/Cyber-Dust/Enterprise-Data-Analytics/branches\":{\"post\":\"SLaliHbbLnZk95QV9d8hiMn-vQ6FAW_xlAse40qUJJV7mlt8M4oxba0aEV_x3FlU_kdwL85ndVfnu3gcPJxXcA\"}</th>\n",
              "      <th>/repos/preferences:{\"post\":\"eTcUbf72ARrc0gR_n4goKAigBqwFqBZmhQlrYu9n27bOo6UQ_r8cyV4dqmwtrZ66KP-e-U8_Bw_DZygpULC0Ow\"}}}</th>\n",
              "      <th>title:\"Enterprise-Data-Analytics/happyscore_income.csv at main · Cyber-Dust/Enterprise-Data-Analytics\"}</th>\n",
              "    </tr>\n",
              "  </thead>\n",
              "  <tbody>\n",
              "  </tbody>\n",
              "</table>\n",
              "<p>0 rows × 1360 columns</p>\n",
              "</div>\n",
              "    <div class=\"colab-df-buttons\">\n",
              "\n",
              "  <div class=\"colab-df-container\">\n",
              "    <button class=\"colab-df-convert\" onclick=\"convertToInteractive('df-d1695f31-2f65-440e-92d9-bbefdb094f1a')\"\n",
              "            title=\"Convert this dataframe to an interactive table.\"\n",
              "            style=\"display:none;\">\n",
              "\n",
              "  <svg xmlns=\"http://www.w3.org/2000/svg\" height=\"24px\" viewBox=\"0 -960 960 960\">\n",
              "    <path d=\"M120-120v-720h720v720H120Zm60-500h600v-160H180v160Zm220 220h160v-160H400v160Zm0 220h160v-160H400v160ZM180-400h160v-160H180v160Zm440 0h160v-160H620v160ZM180-180h160v-160H180v160Zm440 0h160v-160H620v160Z\"/>\n",
              "  </svg>\n",
              "    </button>\n",
              "\n",
              "  <style>\n",
              "    .colab-df-container {\n",
              "      display:flex;\n",
              "      gap: 12px;\n",
              "    }\n",
              "\n",
              "    .colab-df-convert {\n",
              "      background-color: #E8F0FE;\n",
              "      border: none;\n",
              "      border-radius: 50%;\n",
              "      cursor: pointer;\n",
              "      display: none;\n",
              "      fill: #1967D2;\n",
              "      height: 32px;\n",
              "      padding: 0 0 0 0;\n",
              "      width: 32px;\n",
              "    }\n",
              "\n",
              "    .colab-df-convert:hover {\n",
              "      background-color: #E2EBFA;\n",
              "      box-shadow: 0px 1px 2px rgba(60, 64, 67, 0.3), 0px 1px 3px 1px rgba(60, 64, 67, 0.15);\n",
              "      fill: #174EA6;\n",
              "    }\n",
              "\n",
              "    .colab-df-buttons div {\n",
              "      margin-bottom: 4px;\n",
              "    }\n",
              "\n",
              "    [theme=dark] .colab-df-convert {\n",
              "      background-color: #3B4455;\n",
              "      fill: #D2E3FC;\n",
              "    }\n",
              "\n",
              "    [theme=dark] .colab-df-convert:hover {\n",
              "      background-color: #434B5C;\n",
              "      box-shadow: 0px 1px 3px 1px rgba(0, 0, 0, 0.15);\n",
              "      filter: drop-shadow(0px 1px 2px rgba(0, 0, 0, 0.3));\n",
              "      fill: #FFFFFF;\n",
              "    }\n",
              "  </style>\n",
              "\n",
              "    <script>\n",
              "      const buttonEl =\n",
              "        document.querySelector('#df-d1695f31-2f65-440e-92d9-bbefdb094f1a button.colab-df-convert');\n",
              "      buttonEl.style.display =\n",
              "        google.colab.kernel.accessAllowed ? 'block' : 'none';\n",
              "\n",
              "      async function convertToInteractive(key) {\n",
              "        const element = document.querySelector('#df-d1695f31-2f65-440e-92d9-bbefdb094f1a');\n",
              "        const dataTable =\n",
              "          await google.colab.kernel.invokeFunction('convertToInteractive',\n",
              "                                                    [key], {});\n",
              "        if (!dataTable) return;\n",
              "\n",
              "        const docLinkHtml = 'Like what you see? Visit the ' +\n",
              "          '<a target=\"_blank\" href=https://colab.research.google.com/notebooks/data_table.ipynb>data table notebook</a>'\n",
              "          + ' to learn more about interactive tables.';\n",
              "        element.innerHTML = '';\n",
              "        dataTable['output_type'] = 'display_data';\n",
              "        await google.colab.output.renderOutput(dataTable, element);\n",
              "        const docLink = document.createElement('div');\n",
              "        docLink.innerHTML = docLinkHtml;\n",
              "        element.appendChild(docLink);\n",
              "      }\n",
              "    </script>\n",
              "  </div>\n",
              "\n",
              "    </div>\n",
              "  </div>\n"
            ]
          },
          "metadata": {},
          "execution_count": 5
        }
      ]
    },
    {
      "cell_type": "code",
      "source": [
        "# clean the happiness income log\n",
        "df = happiness_income_log[['GDP', 'happyScore']]\n",
        "print(df.head())\n",
        "\n",
        "\n",
        "print(\"Shape before dropping duplicates and unneeded columns: \")\n",
        "print(df.shape)\n",
        "\n",
        "\n",
        "df = df.drop_duplicates()\n",
        "df = df.dropna()\n",
        "\n",
        "\n",
        "print(\"Shape after dropping duplicates and unneeded columns: \")\n",
        "print(df.shape)"
      ],
      "metadata": {
        "colab": {
          "base_uri": "https://localhost:8080/"
        },
        "id": "_xrKu-1ZYxeU",
        "outputId": "c1f06255-8e16-451c-a18c-d744d923b53d"
      },
      "execution_count": 7,
      "outputs": [
        {
          "output_type": "stream",
          "name": "stdout",
          "text": [
            "Empty DataFrame\n",
            "Columns: [GDP, happyScore]\n",
            "Index: []\n",
            "Shape before dropping duplicates and unneeded columns: \n",
            "(0, 2)\n",
            "Shape after dropping duplicates and unneeded columns: \n",
            "(0, 2)\n"
          ]
        }
      ]
    },
    {
      "cell_type": "code",
      "source": [
        "print(df)"
      ],
      "metadata": {
        "colab": {
          "base_uri": "https://localhost:8080/"
        },
        "id": "NNgfcBX0Yzmz",
        "outputId": "0fcbc211-80d8-4c53-b671-37ef67158578"
      },
      "execution_count": 9,
      "outputs": [
        {
          "output_type": "stream",
          "name": "stdout",
          "text": [
            "Empty DataFrame\n",
            "Columns: [GDP, happyScore]\n",
            "Index: []\n"
          ]
        }
      ]
    }
  ]
}